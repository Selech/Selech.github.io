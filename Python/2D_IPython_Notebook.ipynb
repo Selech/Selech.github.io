{
 "cells": [
  {
   "cell_type": "markdown",
   "metadata": {},
   "source": [
    "# Mega awesome"
   ]
  },
  {
   "cell_type": "code",
   "execution_count": 1,
   "metadata": {
    "collapsed": true
   },
   "outputs": [],
   "source": [
    "from csv import reader\n",
    "from csv import writer\n",
    "from collections import Counter\n",
    "\n",
    "def isNew(x,y,found):\n",
    "    if str(x)+str(y) in found:\n",
    "        return False\n",
    "    else:\n",
    "        found.add(str(x)+str(y))\n",
    "        return True\n",
    "\n",
    "def isValid(x,y):\n",
    "    if x > -122.5 and x < -122.0 and y < 38.0 and y > 37.5:\n",
    "        return True\n",
    "    else:\n",
    "        return False\n",
    "\n",
    "def readData(x):\n",
    "    lines = 0\n",
    "    # the data set\n",
    "    dataFile = open(\"SFPD_Incidents.csv\", 'r')\n",
    "    \n",
    "    for line in reader(dataFile):\n",
    "        if line[9] == 'X':\n",
    "            continue\n",
    "    \n",
    "        if line[1] == 'PROSTITUTION':        \n",
    "            coorX = float(line[9])\n",
    "            coorY = float(line[10])   \n",
    "            lines += 1\n",
    "\n",
    "            if isValid(coorX,coorY):\n",
    "                x.append([coorX,coorY])\n",
    "            else:\n",
    "                continue\n",
    "    \n",
    "def createJsonList(kmeans):\n",
    "    list = []\n",
    "    for i in range(kmeans.cluster_centers_.shape[0]):\n",
    "        list.append([kmeans.cluster_centers_[i,0],kmeans.cluster_centers_[i,1]])\n",
    "    \n",
    "    return list"
   ]
  },
  {
   "cell_type": "code",
   "execution_count": 2,
   "metadata": {
    "collapsed": false
   },
   "outputs": [
    {
     "ename": "IOError",
     "evalue": "[Errno 2] No such file or directory: 'https://www.dropbox.com/s/rffrxkkstundw5p/SFPD_Incidents.csv'",
     "output_type": "error",
     "traceback": [
      "\u001b[0;31m---------------------------------------------------------------------------\u001b[0m",
      "\u001b[0;31mIOError\u001b[0m                                   Traceback (most recent call last)",
      "\u001b[0;32m<ipython-input-2-4d9dd64abc59>\u001b[0m in \u001b[0;36m<module>\u001b[0;34m()\u001b[0m\n\u001b[1;32m      9\u001b[0m \u001b[0;34m\u001b[0m\u001b[0m\n\u001b[1;32m     10\u001b[0m \u001b[0mx\u001b[0m \u001b[0;34m=\u001b[0m \u001b[0;34m[\u001b[0m\u001b[0;34m]\u001b[0m\u001b[0;34m\u001b[0m\u001b[0m\n\u001b[0;32m---> 11\u001b[0;31m \u001b[0mreadData\u001b[0m\u001b[0;34m(\u001b[0m\u001b[0mx\u001b[0m\u001b[0;34m)\u001b[0m\u001b[0;34m\u001b[0m\u001b[0m\n\u001b[0m\u001b[1;32m     12\u001b[0m \u001b[0mX\u001b[0m \u001b[0;34m=\u001b[0m \u001b[0mnp\u001b[0m\u001b[0;34m.\u001b[0m\u001b[0marray\u001b[0m\u001b[0;34m(\u001b[0m\u001b[0mx\u001b[0m\u001b[0;34m)\u001b[0m\u001b[0;34m\u001b[0m\u001b[0m\n\u001b[1;32m     13\u001b[0m \u001b[0;34m\u001b[0m\u001b[0m\n",
      "\u001b[0;32m<ipython-input-1-cf0f41ab6528>\u001b[0m in \u001b[0;36mreadData\u001b[0;34m(x)\u001b[0m\n\u001b[1;32m     19\u001b[0m     \u001b[0mlines\u001b[0m \u001b[0;34m=\u001b[0m \u001b[0;36m0\u001b[0m\u001b[0;34m\u001b[0m\u001b[0m\n\u001b[1;32m     20\u001b[0m     \u001b[0;31m# the data set\u001b[0m\u001b[0;34m\u001b[0m\u001b[0;34m\u001b[0m\u001b[0m\n\u001b[0;32m---> 21\u001b[0;31m     \u001b[0mdataFile\u001b[0m \u001b[0;34m=\u001b[0m \u001b[0mopen\u001b[0m\u001b[0;34m(\u001b[0m\u001b[0;34m\"https://www.dropbox.com/s/rffrxkkstundw5p/SFPD_Incidents.csv\"\u001b[0m\u001b[0;34m,\u001b[0m \u001b[0;34m'r'\u001b[0m\u001b[0;34m)\u001b[0m\u001b[0;34m\u001b[0m\u001b[0m\n\u001b[0m\u001b[1;32m     22\u001b[0m \u001b[0;34m\u001b[0m\u001b[0m\n\u001b[1;32m     23\u001b[0m     \u001b[0;32mfor\u001b[0m \u001b[0mline\u001b[0m \u001b[0;32min\u001b[0m \u001b[0mreader\u001b[0m\u001b[0;34m(\u001b[0m\u001b[0mdataFile\u001b[0m\u001b[0;34m)\u001b[0m\u001b[0;34m:\u001b[0m\u001b[0;34m\u001b[0m\u001b[0m\n",
      "\u001b[0;31mIOError\u001b[0m: [Errno 2] No such file or directory: 'https://www.dropbox.com/s/rffrxkkstundw5p/SFPD_Incidents.csv'"
     ]
    }
   ],
   "source": [
    "# Making K-means\n",
    "import json\n",
    "from csv import reader \n",
    "import numpy as np\n",
    "import pylab as pl\n",
    "from collections import OrderedDict\n",
    "\n",
    "from sklearn.cluster import KMeans\n",
    "\n",
    "x = []\n",
    "readData(x)\n",
    "X = np.array(x)\n",
    "\n",
    "kmeans_2 = KMeans(n_clusters=2)\n",
    "y_pred_2 = kmeans_2.fit_predict(X)\n",
    "\n",
    "kmeans_3 = KMeans(n_clusters=3)\n",
    "y_pred_3 = kmeans_3.fit_predict(X)\n",
    "\n",
    "kmeans_4 = KMeans(n_clusters=4)\n",
    "y_pred_4 = kmeans_4.fit_predict(X)\n",
    "\n",
    "kmeans_5 = KMeans(n_clusters=5)\n",
    "y_pred_5 = kmeans_5.fit_predict(X)\n",
    "\n",
    "kmeans_6 = KMeans(n_clusters=6)\n",
    "y_pred_6 = kmeans_6.fit_predict(X)\n",
    "\n",
    "points = []\n",
    "found = set()\n",
    "\n",
    "for i in range(y_pred_2.size):\n",
    "    floatX = float(X[i,0])\n",
    "    floatY = float(X[i,1])\n",
    "    if isNew(floatX,floatY,found):\n",
    "        k2 = int(y_pred_2[i])\n",
    "        k3 = int(y_pred_3[i])\n",
    "        k4 = int(y_pred_4[i])\n",
    "        k5 = int(y_pred_5[i])\n",
    "        k6 = int(y_pred_6[i])\n",
    "        point = {'lat':floatY,'lon':floatX,'k2':k2,'k3':k3,'k4':k4,'k5':k5,'k6':k6}\n",
    "        points.append(point)\n",
    "\n",
    "k2 = createJsonList(kmeans_2)\n",
    "k3 = createJsonList(kmeans_3)\n",
    "k4 = createJsonList(kmeans_4)\n",
    "k5 = createJsonList(kmeans_5)\n",
    "k6 = createJsonList(kmeans_6)\n",
    "\n",
    "data = OrderedDict([['k2',k2],['k3',k3],['k4',k4],['k5',k5],['k6',k6],['dataPoints',points]])\n",
    "\n",
    "with open('2D.json', 'w') as txtfile:\n",
    "    json.dump(data, txtfile, sort_keys=True)"
   ]
  },
  {
   "cell_type": "code",
   "execution_count": null,
   "metadata": {
    "collapsed": true
   },
   "outputs": [],
   "source": []
  }
 ],
 "metadata": {
  "kernelspec": {
   "display_name": "Python 2",
   "language": "python",
   "name": "python2"
  },
  "language_info": {
   "codemirror_mode": {
    "name": "ipython",
    "version": 2
   },
   "file_extension": ".py",
   "mimetype": "text/x-python",
   "name": "python",
   "nbconvert_exporter": "python",
   "pygments_lexer": "ipython2",
   "version": "2.7.11"
  }
 },
 "nbformat": 4,
 "nbformat_minor": 0
}
